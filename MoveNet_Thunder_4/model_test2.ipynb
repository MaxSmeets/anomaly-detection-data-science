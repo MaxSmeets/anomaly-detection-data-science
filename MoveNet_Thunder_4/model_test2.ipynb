{
 "cells": [
  {
   "cell_type": "code",
   "execution_count": 1,
   "metadata": {},
   "outputs": [],
   "source": [
    "# import os\n",
    "# os.environ['LD_LIBRARY_PATH'] = r'C:\\Program Files\\NVIDIA GPU Computing Toolkit\\CUDA\\v12.1\\lib'"
   ]
  },
  {
   "cell_type": "code",
   "execution_count": 3,
   "metadata": {},
   "outputs": [
    {
     "ename": "ModuleNotFoundError",
     "evalue": "No module named 'tensorflow'",
     "output_type": "error",
     "traceback": [
      "\u001b[1;31m---------------------------------------------------------------------------\u001b[0m",
      "\u001b[1;31mModuleNotFoundError\u001b[0m                       Traceback (most recent call last)",
      "\u001b[1;32md:\\HBO ICT ZUYD\\BD04_Data_Science\\MoveNet_Thunder_4\\model_test2.ipynb Cell 2\u001b[0m in \u001b[0;36m<module>\u001b[1;34m\u001b[0m\n\u001b[1;32m----> <a href='vscode-notebook-cell:/d%3A/HBO%20ICT%20ZUYD/BD04_Data_Science/MoveNet_Thunder_4/model_test2.ipynb#W0sZmlsZQ%3D%3D?line=0'>1</a>\u001b[0m \u001b[39mimport\u001b[39;00m \u001b[39mtensorflow\u001b[39;00m \u001b[39mas\u001b[39;00m \u001b[39mtf\u001b[39;00m\n\u001b[0;32m      <a href='vscode-notebook-cell:/d%3A/HBO%20ICT%20ZUYD/BD04_Data_Science/MoveNet_Thunder_4/model_test2.ipynb#W0sZmlsZQ%3D%3D?line=1'>2</a>\u001b[0m \u001b[39mimport\u001b[39;00m \u001b[39mtensorflow_hub\u001b[39;00m \u001b[39mas\u001b[39;00m \u001b[39mhub\u001b[39;00m\n\u001b[0;32m      <a href='vscode-notebook-cell:/d%3A/HBO%20ICT%20ZUYD/BD04_Data_Science/MoveNet_Thunder_4/model_test2.ipynb#W0sZmlsZQ%3D%3D?line=2'>3</a>\u001b[0m \u001b[39mimport\u001b[39;00m \u001b[39mnumpy\u001b[39;00m \u001b[39mas\u001b[39;00m \u001b[39mnp\u001b[39;00m\n",
      "\u001b[1;31mModuleNotFoundError\u001b[0m: No module named 'tensorflow'"
     ]
    }
   ],
   "source": [
    "import tensorflow as tf\n",
    "import tensorflow_hub as hub\n",
    "import numpy as np\n",
    "import cv2\n",
    "import csv"
   ]
  },
  {
   "cell_type": "code",
   "execution_count": null,
   "metadata": {},
   "outputs": [],
   "source": [
    "def run_pose_estimation(video_path):\n",
    "    # Load MoveNet Thunder 4 model from TensorFlow Hub\n",
    "    module = hub.load(\"https://tfhub.dev/google/movenet/singlepose/thunder/4\")\n",
    "\n",
    "\n",
    "    # Open the video file\n",
    "    video = cv2.VideoCapture(video_path)\n",
    "    video_width = int(video.get(cv2.CAP_PROP_FRAME_WIDTH))\n",
    "    video_height = int(video.get(cv2.CAP_PROP_FRAME_HEIGHT))\n",
    "\n",
    "    # Create a CSV file to store pose estimation data\n",
    "    csv_filename = 'pose_estimation_data.csv'\n",
    "    csv_file = open(csv_filename, 'w', newline='')\n",
    "    csv_writer = csv.writer(csv_file)\n",
    "    csv_writer.writerow(['Frame', 'Keypoint', 'X', 'Y', 'Score'])\n",
    "\n",
    "    frame_count = 0\n",
    "    while video.isOpened():\n",
    "        # Read the next frame\n",
    "        ret, frame = video.read()\n",
    "        if not ret:\n",
    "            break\n",
    "\n",
    "        # Resize the frame to match the expected input size for MoveNet\n",
    "        resized_frame = cv2.resize(frame, (256, 256))\n",
    "\n",
    "        # Convert the frame to RGB and normalize pixel values\n",
    "        input_frame = cv2.cvtColor(resized_frame, cv2.COLOR_BGR2RGB) / 255.0\n",
    "\n",
    "        # Add a batch dimension to the input frame\n",
    "        input_frame = tf.expand_dims(input_frame, axis=0)\n",
    "\n",
    "        # Run the pose estimation on the frame\n",
    "        outputs = module(input_frame)\n",
    "\n",
    "        # Extract pose estimation data from the outputs\n",
    "        keypoints = outputs['output_0'].numpy()[0]\n",
    "        scores = outputs['output_1'].numpy()[0]\n",
    "\n",
    "        # Write the pose estimation data to the CSV file\n",
    "        for i in range(len(keypoints)):\n",
    "            keypoint = keypoints[i]\n",
    "            score = scores[i]\n",
    "            x, y = keypoint[1], keypoint[0]\n",
    "            csv_writer.writerow([frame_count, i, x, y, score])\n",
    "\n",
    "        frame_count += 1\n",
    "    \n",
    "    # Close the CSV file and release the video capture\n",
    "    csv_file.close()\n",
    "    video.release()\n",
    "\n",
    "    print(f\"Pose estimation data saved to {csv_filename}\")"
   ]
  },
  {
   "cell_type": "code",
   "execution_count": null,
   "metadata": {},
   "outputs": [],
   "source": [
    "# Example usage\n",
    "video_path = r'../Videos_movenet/sessie2023-opdr9-11-zijaanzicht.mp4'\n",
    "run_pose_estimation(video_path)"
   ]
  }
 ],
 "metadata": {
  "kernelspec": {
   "display_name": "Python 3",
   "language": "python",
   "name": "python3"
  },
  "language_info": {
   "codemirror_mode": {
    "name": "ipython",
    "version": 3
   },
   "file_extension": ".py",
   "mimetype": "text/x-python",
   "name": "python",
   "nbconvert_exporter": "python",
   "pygments_lexer": "ipython3",
   "version": "3.10.11"
  },
  "orig_nbformat": 4
 },
 "nbformat": 4,
 "nbformat_minor": 2
}
